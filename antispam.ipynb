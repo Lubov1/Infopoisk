{
 "cells": [
  {
   "cell_type": "markdown",
   "metadata": {
    "id": "TyTrPFjKVJ3e"
   },
   "source": [
    "# Антиспам"
   ]
  },
  {
   "cell_type": "code",
   "execution_count": 299,
   "metadata": {
    "id": "cmqcqCVjVJ3g"
   },
   "outputs": [],
   "source": [
    "from __future__ import division\n",
    "\n",
    "import base64\n",
    "import csv\n",
    "import gzip\n",
    "import zlib\n",
    "from importlib import reload\n",
    "import html.parser\n",
    "from collections import namedtuple\n",
    "\n",
    "%matplotlib inline\n",
    "import matplotlib.pyplot as plt"
   ]
  },
  {
   "cell_type": "markdown",
   "metadata": {},
   "source": [
    "### функции для обработки текста"
   ]
  },
  {
   "cell_type": "code",
   "execution_count": 300,
   "metadata": {
    "colab": {
     "base_uri": "https://localhost:8080/",
     "height": 87
    },
    "id": "CWF4O9gfVJ3j",
    "outputId": "855be818-b857-4b40-f4f7-05be8e9510fd"
   },
   "outputs": [
    {
     "name": "stdout",
     "output_type": "stream",
     "text": [
      "Requirement already satisfied: pymorphy2 in /usr/local/lib/python3.6/dist-packages (0.9.1)\n",
      "Requirement already satisfied: docopt>=0.6 in /usr/local/lib/python3.6/dist-packages (from pymorphy2) (0.6.2)\n",
      "Requirement already satisfied: dawg-python>=0.7.1 in /usr/local/lib/python3.6/dist-packages (from pymorphy2) (0.7.2)\n",
      "Requirement already satisfied: pymorphy2-dicts-ru<3.0,>=2.4 in /usr/local/lib/python3.6/dist-packages (from pymorphy2) (2.4.404381.4453942)\n"
     ]
    }
   ],
   "source": [
    "!pip install pymorphy2\n",
    "import pymorphy2   \n",
    "  \n",
    "def pos(word, morth=pymorphy2.MorphAnalyzer()):\n",
    "    \"Return a likely part of speech for the *word*.\"\"\"\n",
    "    return morth.parse(word)[0].tag.POS"
   ]
  },
  {
   "cell_type": "code",
   "execution_count": 301,
   "metadata": {
    "id": "3GIfGpbZVJ3n"
   },
   "outputs": [],
   "source": [
    "list_mest = ['я', 'ты', 'он', 'она', 'оно', 'мы',\n",
    "             'вы', 'они','мой', 'твой', 'свой', 'ваш', 'наш', 'его', 'её', 'их',\n",
    "            'все','быть','может', 'можно', 'очень','нужно','будет','уже','могут',\n",
    "            'кто', 'что', 'какой', 'чей', 'где', 'который', 'откуда', 'сколько', 'каковой', 'каков', 'зачем',\n",
    "            'меня','мне','того', 'этого', 'этот','ее','вы','более', 'было', 'вам', 'все', 'вы',  \n",
    "             'которые', 'нет',  'том', 'этом',\n",
    "            'вас', 'вообще', 'всего', 'вы',\n",
    "            'себе', 'себя', 'ему', 'тебе', 'тебя','был']"
   ]
  },
  {
   "cell_type": "code",
   "execution_count": 302,
   "metadata": {
    "id": "ppdnEC54VJ3q"
   },
   "outputs": [],
   "source": [
    "morph = pymorphy2.MorphAnalyzer()"
   ]
  },
  {
   "cell_type": "code",
   "execution_count": 303,
   "metadata": {
    "colab": {
     "base_uri": "https://localhost:8080/",
     "height": 69
    },
    "id": "odLEFQDsVJ3s",
    "outputId": "e3a9c823-254f-4298-fdd4-042f0d98768f"
   },
   "outputs": [
    {
     "name": "stdout",
     "output_type": "stream",
     "text": [
      "[nltk_data] Downloading package stopwords to /root/nltk_data...\n",
      "[nltk_data]   Package stopwords is already up-to-date!\n"
     ]
    },
    {
     "data": {
      "text/plain": [
       "True"
      ]
     },
     "execution_count": 303,
     "metadata": {
      "tags": []
     },
     "output_type": "execute_result"
    }
   ],
   "source": [
    "\n",
    "import nltk\n",
    "nltk.download(\"stopwords\")"
   ]
  },
  {
   "cell_type": "code",
   "execution_count": 304,
   "metadata": {
    "id": "G7iCJUEFVJ3u"
   },
   "outputs": [],
   "source": [
    "\n",
    "from nltk.corpus import stopwords\n",
    "# from pymystem3 import Mystem\n",
    "from string import punctuation"
   ]
  },
  {
   "cell_type": "code",
   "execution_count": 264,
   "metadata": {
    "id": "mdmCUQDLVJ3w"
   },
   "outputs": [],
   "source": [
    "russian_stopwords = stopwords.words(\"russian\")\n",
    "functors_pos = {'INTJ', 'PRCL', 'CONJ', 'PREP'}  "
   ]
  },
  {
   "cell_type": "code",
   "execution_count": 265,
   "metadata": {
    "id": "fnmr0gU-VJ38"
   },
   "outputs": [],
   "source": [
    "TRACE_NUM = 1000\n",
    "import logging\n",
    "reload(logging)\n",
    "logging.basicConfig(format='%(asctime)s %(levelname)s:%(message)s', level=logging.INFO, datefmt='%H:%M:%S')\n",
    "\n",
    "def trace(items_num, trace_num=TRACE_NUM):\n",
    "    if items_num % trace_num == 0: logging.info(\"Complete items %05d\" % items_num)"
   ]
  },
  {
   "cell_type": "markdown",
   "metadata": {
    "id": "iNcwJdFNVJ3_"
   },
   "source": [
    "### Утилиты"
   ]
  },
  {
   "cell_type": "markdown",
   "metadata": {
    "id": "DmH7roUfVJ3_"
   },
   "source": [
    "#### Декораторы"
   ]
  },
  {
   "cell_type": "code",
   "execution_count": 305,
   "metadata": {
    "id": "QWK2Ux8pVJ4A"
   },
   "outputs": [],
   "source": [
    "def to_utf8(text):\n",
    "    if isinstance(text, str): text = text.encode('utf8')\n",
    "    return text\n",
    "\n",
    "def convert2unicode(f):\n",
    "    def tmp(text):\n",
    "        try:\n",
    "            if not isinstance(text, str): text = text.decode('utf8')\n",
    "            return f(text)\n",
    "        except:\n",
    "            print('!')\n",
    "    return tmp\n",
    "\n",
    "def convert2lower(f):\n",
    "    def tmp(text):        \n",
    "        if text:\n",
    "            return f(text.lower())\n",
    "        else:\n",
    "            return f(text)\n",
    "    return tmp\n",
    "\n",
    "#P.S. Декораторы могут усложнять отладку, так что от них вполне можно отказаться и воспользоваться copy-paste"
   ]
  },
  {
   "cell_type": "markdown",
   "metadata": {
    "id": "EFl0FkJkVJ4B"
   },
   "source": [
    "### Извлечение текста из html"
   ]
  },
  {
   "cell_type": "markdown",
   "metadata": {
    "id": "m7aSH-FiVJ4C"
   },
   "source": [
    "#### Извлечение текста при помощи встроенных модулей"
   ]
  },
  {
   "cell_type": "code",
   "execution_count": 306,
   "metadata": {
    "id": "Zh66aoKEVJ4C"
   },
   "outputs": [],
   "source": [
    "# from HTMLParser import HTMLParser\n",
    "from html.parser import HTMLParser\n",
    "import re\n",
    "\n",
    "###Извлечение текста из title можно вписать сюда\n",
    "\n",
    "class TextHTMLParser(HTMLParser):\n",
    "    def __init__(self):\n",
    "        HTMLParser.__init__(self)\n",
    "        self._text = []\n",
    "        self._title = \"\"\n",
    "        self._in_title = False\n",
    "        self._num_links = 0\n",
    "        self._link = True\n",
    "        self._list_link = []\n",
    "        self._anchor = \"\"\n",
    "        self._img = False\n",
    "        self._num_img = 0\n",
    "        self._num_css = 0\n",
    "        self._script = False\n",
    "        self._num_script = 0\n",
    "\n",
    "        self._mlist = False\n",
    "        self._num_list = 0\n",
    "        self._num_css = 0\n",
    "        self._css = False\n",
    "\n",
    "        # self._video = False   бесполезно\n",
    "        # self._num_video = 0\n",
    "        # self._audio = False\n",
    "        # self._num_audio = 0\n",
    "        \n",
    "        self._table = False\n",
    "        self._num_table = 0\n",
    "        \n",
    "    def handle_data(self, data):\n",
    "        \n",
    "        text = data.strip()\n",
    "        if self._in_title:\n",
    "            self._title += text\n",
    "            self._in_title = False\n",
    "\n",
    "        if self._link:\n",
    "            self._num_links += 1\n",
    "            self._link = False\n",
    "            self._anchor += text + \" \"\n",
    "            \n",
    "        if self._img:\n",
    "            self._num_img += 1\n",
    "            self._img = False\n",
    "        if self._script:\n",
    "            self._num_script += 1\n",
    "            self._script = False\n",
    "        if self._mlist:\n",
    "            self._num_list += 1\n",
    "            self._mlist = False\n",
    "        if self._css:\n",
    "            self._num_css += 1\n",
    "            self._css = False\n",
    "        # if self._video:\n",
    "        #     self._num_video += 1\n",
    "        #     self._video = False\n",
    "        # if self._audio:\n",
    "        #     self._num_audio += 1\n",
    "        #     self._audio = False\n",
    "        if self._table:\n",
    "            self._num_table += 1\n",
    "            self._table = False\n",
    "        if len(text) > 0:\n",
    "            text = re.sub('[ \\t\\r\\n]+', ' ', text)\n",
    "            self._text.append(text + ' ')\n",
    "\n",
    "    def handle_starttag(self, tag, attrs):\n",
    "        if tag == 'p':\n",
    "            self._text.append('\\n\\n')\n",
    "        elif tag == 'br':\n",
    "            self._text.append('\\n')\n",
    "        elif tag == 'title':\n",
    "            self._in_title = True\n",
    "        elif tag == 'a':\n",
    "            self._link = True \n",
    "        elif tag == 'img':\n",
    "            self._img = True  \n",
    "        elif tag == 'ul' or tag == 'ol' or tag == 'dl':\n",
    "            self._mlist = True\n",
    "        # elif tag == 'video':\n",
    "        #     self._video = True \n",
    "        elif tag == 'script':\n",
    "            self._script = True \n",
    "        # elif tag == 'audio':\n",
    "        #     self._audio = True \n",
    "        elif tag == 'table':\n",
    "            self._table = True \n",
    "        elif tag == 'link':\n",
    "            self._css = True\n",
    "\n",
    "\n",
    "    def handle_startendtag(self, tag, attrs):\n",
    "        if tag == 'br':\n",
    "            self._text.append('\\n\\n')\n",
    "\n",
    "    def text(self):\n",
    "        return ''.join(self._text).strip()\n",
    "\n",
    "@convert2unicode\n",
    "def html2text_parser(text):\n",
    "    parser = TextHTMLParser()\n",
    "    parser.feed(text)\n",
    "    return parser.text(), parser._title, parser._num_links , parser._anchor, parser._num_img,\\\n",
    "            parser._num_script, parser._num_table, parser._num_list, parser._num_css"
   ]
  },
  {
   "cell_type": "markdown",
   "metadata": {
    "id": "c7cuNY_bVJ4E"
   },
   "source": [
    "#### Извлечение текста при помощи дополнительных библиотек"
   ]
  },
  {
   "cell_type": "code",
   "execution_count": 307,
   "metadata": {
    "id": "v-CqCscUVJ4F"
   },
   "outputs": [],
   "source": [
    "def html2text_bs(raw_html):\n",
    "    from bs4 import BeautifulSoup\n",
    "    \"\"\"\n",
    "    Тут производится извлечения из html текста\n",
    "    \"\"\"\n",
    "    soup = BeautifulSoup(raw_html, \"html.parser\")\n",
    "    [s.extract() for s in soup(['script', 'style'])]\n",
    "    return soup.get_text()\n",
    "\n",
    "def html2text_bs_visible(raw_html):\n",
    "    from bs4 import BeautifulSoup\n",
    "    \"\"\"\n",
    "    Тут производится извлечения из html текста, который видим пользователю\n",
    "    \"\"\"\n",
    "    soup = BeautifulSoup(raw_html, \"html.parser\")    \n",
    "    [s.extract() for s in soup(['style', 'script', '[document]', 'head', 'title'])]\n",
    "    return soup.get_text()\n",
    "\n",
    "def html2text_boilerpipe(raw_html):\n",
    "    import boilerpipe\n",
    "    \"\"\"\n",
    "    еще одна библиотека очень хорошо извлекающая именно видимый пользователю текст,\n",
    "    но она завязана на java\n",
    "    \"\"\"\n",
    "    pass"
   ]
  },
  {
   "cell_type": "markdown",
   "metadata": {
    "id": "e1JSbXtRVJ4G"
   },
   "source": [
    "#### Выбираем какой метод для конвертации html в текст будет основным"
   ]
  },
  {
   "cell_type": "code",
   "execution_count": 308,
   "metadata": {
    "id": "ZVONfN6iVJ4H"
   },
   "outputs": [],
   "source": [
    "#html2text = html2text_bs\n",
    "html2text = html2text_parser"
   ]
  },
  {
   "cell_type": "markdown",
   "metadata": {
    "id": "Pr8zh0_bVJ4J"
   },
   "source": [
    "#### Методы для токенизации текста"
   ]
  },
  {
   "cell_type": "code",
   "execution_count": 309,
   "metadata": {
    "id": "f64SnJBkVJ4K"
   },
   "outputs": [],
   "source": [
    "@convert2lower\n",
    "@convert2unicode\n",
    "def easy_tokenizer(text):\n",
    "    word = str()\n",
    "    for symbol in text:\n",
    "        if symbol.isalnum(): word += symbol\n",
    "        elif word:\n",
    "            yield word\n",
    "            word = str()\n",
    "    if word: yield word\n",
    "\n",
    "PYMORPHY_CACHE = {}\n",
    "MORPH = None\n",
    "#hint, чтобы установка pymorphy2 не была бы обязательной\n",
    "def get_lemmatizer():\n",
    "    import pymorphy2\n",
    "    global MORPH\n",
    "    if MORPH is None: MORPH = pymorphy2.MorphAnalyzer()\n",
    "    return MORPH\n",
    "\n",
    "@convert2lower\n",
    "@convert2unicode\n",
    "def pymorphy_tokenizer(text):\n",
    "    global PYMORPHY_CACHE\n",
    "    for word in easy_tokenizer(text):\n",
    "        word_hash = hash(word)\n",
    "        if word_hash not in PYMORPHY_CACHE:\n",
    "            PYMORPHY_CACHE[word_hash] = get_lemmatizer().parse(word)[0].normal_form            \n",
    "        yield PYMORPHY_CACHE[word_hash]"
   ]
  },
  {
   "cell_type": "markdown",
   "metadata": {
    "id": "P50LgGJLVJ4L"
   },
   "source": [
    "#### Основная функция, которая вызывается для преобразования html в список слов"
   ]
  },
  {
   "cell_type": "code",
   "execution_count": 310,
   "metadata": {
    "id": "SiTI00yEVJ4M"
   },
   "outputs": [],
   "source": [
    "def html2word(raw_html, to_text=html2text, tokenizer=easy_tokenizer):\n",
    "    p = to_text(raw_html)\n",
    "    if p:\n",
    "        text, title, num_links , anchor,num_img, num_script,  num_table, num_list, num_css = to_text(raw_html)\n",
    "\n",
    "        return text,title,num_links,anchor,num_img, num_script, num_table, num_list, num_css\n",
    "    else:\n",
    "        return None"
   ]
  },
  {
   "cell_type": "markdown",
   "metadata": {
    "id": "xNcbwQyXVJ4N"
   },
   "source": [
    "#### Рассчет финальных метрик"
   ]
  },
  {
   "cell_type": "code",
   "execution_count": 311,
   "metadata": {
    "id": "hQWH0hgnVJ4O"
   },
   "outputs": [],
   "source": [
    "def safe_divide(a, b):\n",
    "    if a == 0: return 0.0\n",
    "    elif b == 0: return 0.0\n",
    "    else: return a/b\n",
    "\n",
    "def calculate_metrics(predictions, threshold):    \n",
    "    \"\"\"\n",
    "    Функция подсчета метрик\n",
    "    Параметры\n",
    "    predictions - ранки по документам\n",
    "    threshold  - порог для метрик\n",
    "    \"\"\"\n",
    "    true_positive = 0\n",
    "    false_positive = 0\n",
    "    true_negative = 0\n",
    "    false_negative = 0\n",
    "    for (url_id, mark, url, prediction) in predictions:        \n",
    "        mark_predict = prediction > threshold\n",
    "\n",
    "        if mark_predict:                     \n",
    "            if mark_predict == mark: true_positive += 1\n",
    "            else: false_positive += 1                    \n",
    "        else:                     \n",
    "            if  mark_predict == mark: true_negative += 1\n",
    "            else: false_negative += 1\n",
    "\n",
    "    class_prec  = safe_divide(true_positive, true_positive + false_positive)\n",
    "    class_recall = safe_divide(true_positive, true_positive + false_negative)\n",
    "        \n",
    "    class_F1 = safe_divide(2 * class_prec * class_recall, class_prec + class_recall)\n",
    "    \n",
    "    \n",
    "    not_class_prec = safe_divide(true_negative, true_negative + false_negative)\n",
    "    not_class_recall = safe_divide(true_negative, true_negative + false_positive)\n",
    "    \n",
    "    not_class_F1 = safe_divide(2 * not_class_prec * not_class_recall, not_class_prec + not_class_recall)\n",
    "    \n",
    "    return ( (class_prec, class_recall, class_F1), (not_class_prec, not_class_recall, not_class_F1) )\n",
    "\n",
    "def arange(start, stop, step):\n",
    "    cur_value = start\n",
    "    while True:\n",
    "        if cur_value > stop: break\n",
    "        yield cur_value\n",
    "        cur_value += step\n",
    "\n",
    "def plot_results(docs, min_threshold=-1, max_threshold=1, step=0.1, trace=False):\n",
    "    x = []\n",
    "    y_p = []\n",
    "    y_n = []\n",
    "    docs_predictions = classifier.predict_all(docs)\n",
    "    for threshold in arange(min_threshold, max_threshold, step):\n",
    "        r = calculate_metrics(docs_predictions, threshold)\n",
    "        x.append(threshold)\n",
    "        y_p.append(r[0])\n",
    "        y_n.append(r[1])        \n",
    "        if trace: \n",
    "            print ('threshold %s' % threshold)\n",
    "            print ('\\tclass_prec %s, class_recall %s, class_F1 %s' % r[0])\n",
    "            print ('\\tnot_class_prec %s, not_class_recall %s, not_class_F1 %s' % r[1])\n",
    "            print ('\\t\\tMacroF1Mesure %s' % ((r[0][2] + r[1][2])/2))\n",
    "    plot_stats(x, y_p, \"Class Result\")\n",
    "    plot_stats(x, y_n, \"Not class Result\")    \n",
    "\n",
    "\n",
    "def plot_stats(x, y, title):\n",
    "    plt.figure(figsize=(10, 5))\n",
    "\n",
    "    prec, = plt.plot( x, \n",
    "                     [k[0] for k in y], \"r\", label='Precision', \n",
    "                     linewidth=1)\n",
    "    accur, = plt.plot( x, \n",
    "                      [k[1] for k in y], \"b\", label='Recall',\n",
    "                      linewidth=1)\n",
    "    f1, =    plt.plot( x, \n",
    "                      [k[2] for k in y], \"g\", label='F1',\n",
    "                      linewidth=1)\n",
    "    plt.grid(True)\n",
    "    plt.legend(handles=[prec, accur, f1])\n",
    "    plt.title(title)\n",
    "    plt.show()"
   ]
  },
  {
   "cell_type": "code",
   "execution_count": 312,
   "metadata": {
    "id": "99WYWUYkVJ4P"
   },
   "outputs": [],
   "source": [
    "from __future__ import division\n",
    "import requests\n",
    "import urllib.request\n",
    "import http.client\n",
    "\n",
    "AllTexts = []  # список всех текстов(для подсчета дополнительных фичей)\n",
    "\n",
    "\n",
    "def calc_features(url, html_data, compression_lvl):\n",
    "    \n",
    "    \n",
    "    if html2word(html_data):\n",
    "        text, title, num_links , anchor, num_img, num_script, num_table, num_list, num_css = html2word(html_data)\n",
    "        words = [ i for i in text.expandtabs().split(' ') if i!=\" \"]\n",
    "        words_num = len(words)\n",
    "        \n",
    "        avg_word_len = len(text) / words_num\n",
    "        title_words_num = len(title)   \n",
    "        anchor_words_num = len([i for i in anchor.expandtabs().split(' ') if i!=\" \"])\n",
    "        url_len = len(url)\n",
    "        html = int(url.find(\"html\")!=-1)\n",
    "        tire = len(url.split('-')) - 1\n",
    "        AllTexts.append(text[:10000])\n",
    "    else:\n",
    "        tire = len(url.split('-')) - 1\n",
    "        html = int(url.find(\"html\")!=-1)\n",
    "        url_len = len(url)\n",
    "\n",
    "        num_css = 0\n",
    "        num_links = 0\n",
    "        words = None\n",
    "        words_num = 0\n",
    "        num_img=0\n",
    "        num_script=0\n",
    "        # num_video=0\n",
    "        # num_audio=0\n",
    "        num_table=0\n",
    "        avg_word_len = 0\n",
    "        title_words_num = 0   \n",
    "        anchor_words_num = 0\n",
    "        num_list = 0\n",
    "        AllTexts.append([])\n",
    "\n",
    "    return [words_num,  # Количество слов на странице\n",
    "            avg_word_len, # Средняя длинна слова\n",
    "            title_words_num,  # Количество слов в заголовке страниц \n",
    "            anchor_words_num,  # Количество слов в анкорах ссылок\n",
    "            compression_lvl,  # Коэффициент сжатия\n",
    "            num_links,  # Количество ссылок\n",
    "            num_img,  # Количество картинок\n",
    "            num_script,  # Количество скриптов\n",
    "            num_table,  # Количество таблиц\n",
    "            num_list,  # Количество списков\n",
    "            num_css,  # Количество css\n",
    "            url_len,  # Длина урла\n",
    "            tire,  # Количество тире в урле\n",
    "            html]  # присутствие html\n",
    "        "
   ]
  },
  {
   "cell_type": "code",
   "execution_count": 313,
   "metadata": {
    "id": "03pUSFhsVJ4R"
   },
   "outputs": [],
   "source": [
    "import tqdm\n",
    "#предобраюотка текста для подсчета tf, idf\n",
    "def obr_texts(AllTexts2):\n",
    "    ready_all_texts = []\n",
    "    for text in tqdm.tqdm(AllTexts2):\n",
    "        if text:\n",
    "          r = [ i.lower() for i in text.split(' ') if i]\n",
    "          p = [re.sub(r'[^А-я]', '', i) for i in r]\n",
    "          p1 = list(filter(lambda i: i, p))\n",
    "          cur = [word for word in p1 if (pos(word) not in functors_pos and len(word)>1)]\n",
    "          cur = [u.lower() for u in cur if not u.lower() in list_mest]             \n",
    "          cur = [i for i in cur if (not i in russian_stopwords) and i]\n",
    "          cur = [morph.parse(o)[0].normal_form for o in cur]\n",
    "          ready_all_texts.append(' '.join(cur))\n",
    "    else:\n",
    "          ready_all_texts.append(\"\")\n",
    "        \n",
    "    return ready_all_texts"
   ]
  },
  {
   "cell_type": "code",
   "execution_count": 314,
   "metadata": {
    "id": "Fz3cyf58VJ4T"
   },
   "outputs": [],
   "source": [
    "from sklearn.feature_extraction.text import TfidfVectorizer\n",
    "import numpy as np\n",
    "def idf(ready_all_texts,max_featurescur):\n",
    "    vectorizer = TfidfVectorizer(max_features=max_featurescur)\n",
    "    X6 = vectorizer.fit_transform(ready_all_texts)\n",
    "    idf = np.mean(X6, axis=-1)\n",
    "    return idf"
   ]
  },
  {
   "cell_type": "code",
   "execution_count": 207,
   "metadata": {
    "id": "GgjeCm58glhi"
   },
   "outputs": [],
   "source": []
  },
  {
   "cell_type": "code",
   "execution_count": 160,
   "metadata": {
    "colab": {
     "base_uri": "https://localhost:8080/",
     "height": 35
    },
    "id": "r-8AwpAoVJ4V",
    "outputId": "e2943817-12ab-4be3-cad6-c1d17ef8e656"
   },
   "outputs": [
    {
     "name": "stdout",
     "output_type": "stream",
     "text": [
      "[6, 4.333333333333333, 15, 2, 0, 1, 0, 0, 0, 0, 0]\n"
     ]
    }
   ],
   "source": [
    "test_html_data = u'''\n",
    "<html>\n",
    "<title> Заголовок Ololo </title>\n",
    "спам 1 2 3\n",
    "</html>\n",
    "'''\n",
    "test_url = 'http://ololo'\n",
    "test_features = calc_features(test_url, test_html_data,0)\n",
    "print( test_features)"
   ]
  },
  {
   "cell_type": "code",
   "execution_count": 315,
   "metadata": {
    "id": "4iPwaMetVJ4Y"
   },
   "outputs": [],
   "source": [
    "DocItem = namedtuple('DocItem', ['doc_id', 'is_spam', 'url', 'features'])\n",
    "\n",
    "def load_csv(input_file_name, calc_features_f):    \n",
    "    \"\"\"\n",
    "    Загружаем данные и извлекаем на лету признаки\n",
    "    Сам контент не сохраняется, чтобы уменьшить потребление памяти - чтобы\n",
    "    можно было запускать даже на ноутбуках в классе\n",
    "    \"\"\"\n",
    "    \n",
    "    with gzip.open(input_file_name) if input_file_name.endswith('gz') else open(input_file_name)  as input_file:            \n",
    "        headers = input_file.readline()\n",
    "        \n",
    "        for i, line in enumerate(input_file):\n",
    "            trace(i)\n",
    "#             parts = line.strip().split('\\t')\n",
    "            parts = line.decode(encoding = 'utf-8',errors = 'strict').strip().split('\\t')\n",
    "            url_id = int(parts[0])                                        \n",
    "            mark = bool(int(parts[1]))                    \n",
    "            url = parts[2]\n",
    "            pageInb64 = parts[3]\n",
    "            html_data = base64.b64decode(pageInb64)\n",
    "            compression_lvl = (len(pageInb64) / len(html_data) - 1.333) * 100000 - 30\n",
    "            features = calc_features_f(url, html_data, compression_lvl)   \n",
    "            \n",
    "            yield DocItem(url_id, mark, url, features)            \n",
    "                \n",
    "        trace(i, 1)        "
   ]
  },
  {
   "cell_type": "markdown",
   "metadata": {
    "id": "SC4yLnbxVJ4a"
   },
   "source": [
    "** Обрабатываем входной файл **\n",
    "<br>\n",
    "Формат - поля разделенные табуляциями\n",
    "<br>\n",
    "0 - идентификатор документа\n",
    "<br>\n",
    "1 - метка класса 0 - не спам, 1 - спам\n",
    "<br>\n",
    "2 - урл документа\n",
    "<br>\n",
    "3 - документ в кодировке base64\n",
    "\n",
    "Выходной формат - массив кортежей вида\n",
    "(doc_id, is_spam, url, html_data)"
   ]
  },
  {
   "cell_type": "code",
   "execution_count": 21,
   "metadata": {
    "colab": {
     "base_uri": "https://localhost:8080/",
     "height": 35
    },
    "id": "4L3xzpu8Wk-J",
    "outputId": "0474a179-09a6-49e1-e3ec-d4905fc0881e"
   },
   "outputs": [
    {
     "name": "stdout",
     "output_type": "stream",
     "text": [
      "Mounted at /content/drive\n"
     ]
    }
   ],
   "source": [
    "from google.colab import drive\n",
    "drive.mount('/content/drive')"
   ]
  },
  {
   "cell_type": "code",
   "execution_count": null,
   "metadata": {
    "id": "isagUZNyWlHu"
   },
   "outputs": [],
   "source": []
  },
  {
   "cell_type": "code",
   "execution_count": 316,
   "metadata": {
    "colab": {
     "base_uri": "https://localhost:8080/",
     "height": 225
    },
    "id": "hrAZpXPPVJ4a",
    "outputId": "205b4403-342f-4819-b376-1aee7e472fd9",
    "scrolled": true
   },
   "outputs": [
    {
     "name": "stderr",
     "output_type": "stream",
     "text": [
      "15:11:37 INFO:Complete items 00000\n",
      "15:12:17 INFO:Complete items 01000\n",
      "15:12:52 INFO:Complete items 02000\n",
      "15:13:27 INFO:Complete items 03000\n"
     ]
    },
    {
     "name": "stdout",
     "output_type": "stream",
     "text": [
      "!\n"
     ]
    },
    {
     "name": "stderr",
     "output_type": "stream",
     "text": [
      "15:14:02 INFO:Complete items 04000\n",
      "15:14:40 INFO:Complete items 05000\n",
      "15:15:16 INFO:Complete items 06000\n",
      "15:15:52 INFO:Complete items 07000\n",
      "15:15:53 INFO:Complete items 07043\n"
     ]
    },
    {
     "name": "stdout",
     "output_type": "stream",
     "text": [
      "CPU times: user 4min 15s, sys: 303 ms, total: 4min 15s\n",
      "Wall time: 4min 16s\n"
     ]
    }
   ],
   "source": [
    "%%time\n",
    "\n",
    "TRAIN_DATA_FILE  = '/content/drive/My Drive/antispam-infopoisk/kaggle_train_data_tab_new.csv.gz'\n",
    "\n",
    "train_docs = list(load_csv(TRAIN_DATA_FILE, calc_features))"
   ]
  },
  {
   "cell_type": "code",
   "execution_count": 29,
   "metadata": {
    "colab": {
     "base_uri": "https://localhost:8080/",
     "height": 35
    },
    "id": "hd7arLklVJ4c",
    "outputId": "871a8012-63b9-4c4b-fee3-a279e8bed8b2"
   },
   "outputs": [
    {
     "name": "stderr",
     "output_type": "stream",
     "text": [
      "100%|██████████| 7045/7045 [27:27<00:00,  4.28it/s]\n"
     ]
    }
   ],
   "source": [
    "r_a_t = obr_texts(AllTexts) # предобработка текста"
   ]
  },
  {
   "cell_type": "code",
   "execution_count": 31,
   "metadata": {
    "id": "V4bAF7dvVJ4f"
   },
   "outputs": [],
   "source": [
    "import pickle #\n",
    "with open('/content/drive/My Drive/antispam-infopoisk/text2.data', 'wb') as filehandle:\n",
    "    pickle.dump(r_a_t,filehandle)"
   ]
  },
  {
   "cell_type": "code",
   "execution_count": 32,
   "metadata": {
    "id": "NQ_3pMtSVJ4h"
   },
   "outputs": [],
   "source": [
    "with open('/content/drive/My Drive/antispam-infopoisk/text2.data', 'rb') as filehandle:\n",
    "    r_a_t2 = pickle.load(filehandle)"
   ]
  },
  {
   "cell_type": "code",
   "execution_count": 192,
   "metadata": {
    "id": "rocNpBRDa7gq"
   },
   "outputs": [],
   "source": [
    "Idf5 = idf(r_a_t2,5)\n",
    "Idf10 = idf(r_a_t2,10)\n",
    "Idf20 = idf(r_a_t2,20)"
   ]
  },
  {
   "cell_type": "code",
   "execution_count": 242,
   "metadata": {
    "id": "ptZ3SLiNbHCB"
   },
   "outputs": [],
   "source": [
    "Idf15 = idf(r_a_t2,15)\n",
    "Idf3 = idf(r_a_t2,3)"
   ]
  },
  {
   "cell_type": "code",
   "execution_count": 317,
   "metadata": {
    "id": "XEvB1XPaY9Zs"
   },
   "outputs": [],
   "source": [
    "#добавляем усредненный idf и tf к признакам\n",
    "i=0\n",
    "for doc in train_docs:\n",
    "  doc.features.append(Idf10[i].tolist()[0][0])\n",
    "  doc.features.append(Tf20[i])\n",
    "  i+=1"
   ]
  },
  {
   "cell_type": "code",
   "execution_count": 166,
   "metadata": {
    "id": "Rp3MIya8dd1i"
   },
   "outputs": [],
   "source": [
    "from sklearn.feature_extraction.text import CountVectorizer\n",
    "def tf(ready_all_texts,max_featurescur):\n",
    "  vectorizer = CountVectorizer(max_features=max_featurescur).fit_transform(ready_all_texts)\n",
    "  vectores = vectorizer.toarray()\n",
    "  tf = np.mean(vectores, axis=-1)\n",
    "  return tf"
   ]
  },
  {
   "cell_type": "code",
   "execution_count": 167,
   "metadata": {
    "id": "PHQcR-PgdxSr"
   },
   "outputs": [],
   "source": [
    "Tf5 = tf(r_a_t2,5)\n",
    "Tf10 = tf(r_a_t2,10)\n",
    "Tf15 = tf(r_a_t2,15)\n",
    "Tf20 = tf(r_a_t2,20)\n"
   ]
  },
  {
   "cell_type": "code",
   "execution_count": 229,
   "metadata": {
    "colab": {
     "base_uri": "https://localhost:8080/",
     "height": 281
    },
    "id": "QA4ThxzzVJ4l",
    "outputId": "b52a2cbd-708f-498c-f025-66dcba11df65"
   },
   "outputs": [
    {
     "data": {
      "image/png": "[encoded data removed]",
      "text/plain": [
       "<Figure size 432x288 with 1 Axes>"
      ]
     },
     "metadata": {
      "needs_background": "light",
      "tags": []
     },
     "output_type": "display_data"
    }
   ],
   "source": [
    "is_spam_data = [doc.features[0] for doc in train_docs if doc[1] == True]\n",
    "not_spam_data = [doc.features[0] for doc in train_docs if doc[1] == False]\n",
    "bins = range(0,3000,10)\n",
    "plt.hist(is_spam_data, bins=bins, color='red',  alpha=0.7, label='spam')\n",
    "plt.hist(not_spam_data, bins=bins, color='blue',  alpha=0.7, label='not_spam')\n",
    "plt.title('NumWords')\n",
    "plt.legend()\n",
    "plt.show()"
   ]
  },
  {
   "cell_type": "code",
   "execution_count": 230,
   "metadata": {
    "colab": {
     "base_uri": "https://localhost:8080/",
     "height": 281
    },
    "id": "j-riiIXvVJ4m",
    "outputId": "59a842db-53aa-4bc8-e299-ab607d31040a"
   },
   "outputs": [
    {
     "data": {
      "image/png": "[encoded data removed]",
      "text/plain": [
       "<Figure size 432x288 with 1 Axes>"
      ]
     },
     "metadata": {
      "needs_background": "light",
      "tags": []
     },
     "output_type": "display_data"
    }
   ],
   "source": [
    "is_spam_data = [doc.features[1] for doc in train_docs if doc[1] == True]\n",
    "not_spam_data = [doc.features[1] for doc in train_docs if doc[1] == False]\n",
    "bins = 100\n",
    "plt.hist(is_spam_data, bins=bins, color='red', alpha=0.7, label='spam')\n",
    "plt.hist(not_spam_data, bins=bins, color='blue',  alpha=0.7, label='not_spam')\n",
    "plt.title('AvgWordLen')\n",
    "plt.legend()\n",
    "plt.show()"
   ]
  },
  {
   "cell_type": "code",
   "execution_count": 231,
   "metadata": {
    "colab": {
     "base_uri": "https://localhost:8080/",
     "height": 281
    },
    "id": "eB1_77d-VJ4o",
    "outputId": "b6dbe398-c4b7-4f25-bb58-78c97e2497f0"
   },
   "outputs": [
    {
     "data": {
      "image/png": "[encoded data removed]",
      "text/plain": [
       "<Figure size 432x288 with 1 Axes>"
      ]
     },
     "metadata": {
      "needs_background": "light",
      "tags": []
     },
     "output_type": "display_data"
    }
   ],
   "source": [
    "is_spam_data = [doc.features[2] for doc in train_docs if doc[1] == True]\n",
    "not_spam_data = [doc.features[2] for doc in train_docs if doc[1] == False]\n",
    "bins = range(0, 30, 1)\n",
    "plt.hist(is_spam_data, bins=bins, color='red',  alpha=0.7, label='spam')\n",
    "plt.hist(not_spam_data, bins=bins, color='blue',  alpha=0.7, label='not_spam')\n",
    "plt.title('NumWordsTitle')\n",
    "plt.legend()\n",
    "plt.show()"
   ]
  },
  {
   "cell_type": "code",
   "execution_count": 232,
   "metadata": {
    "colab": {
     "base_uri": "https://localhost:8080/",
     "height": 281
    },
    "id": "wLr9KD41VJ4r",
    "outputId": "bf15c683-1eed-4982-b1e7-98ce2cc20079"
   },
   "outputs": [
    {
     "data": {
      "image/png": "[encoded data removed]",
      "text/plain": [
       "<Figure size 432x288 with 1 Axes>"
      ]
     },
     "metadata": {
      "needs_background": "light",
      "tags": []
     },
     "output_type": "display_data"
    }
   ],
   "source": [
    "is_spam_data = [doc.features[3] for doc in train_docs if doc[1] == True]\n",
    "not_spam_data = [doc.features[3] for doc in train_docs if doc[1] == False]\n",
    "bins = range(0, 30, 1)\n",
    "plt.hist(is_spam_data, bins=bins, color='red',  alpha=0.7, label='spam')\n",
    "plt.hist(not_spam_data, bins=bins, color='blue', alpha=0.7, label='not_spam')\n",
    "plt.title('NumWordsAnchor')\n",
    "plt.legend()\n",
    "plt.show()"
   ]
  },
  {
   "cell_type": "code",
   "execution_count": 233,
   "metadata": {
    "colab": {
     "base_uri": "https://localhost:8080/",
     "height": 281
    },
    "id": "UaKqyyKWVJ4s",
    "outputId": "21923124-7d6b-462b-8f36-ca1b5e9a27eb"
   },
   "outputs": [
    {
     "data": {
      "image/png": "[encoded data removed]",
      "text/plain": [
       "<Figure size 432x288 with 1 Axes>"
      ]
     },
     "metadata": {
      "needs_background": "light",
      "tags": []
     },
     "output_type": "display_data"
    }
   ],
   "source": [
    "is_spam_data = [doc.features[4] for doc in train_docs if doc[1] == True]\n",
    "not_spam_data = [doc.features[4] for doc in train_docs if doc[1] == False]\n",
    "bins = range(0, 30, 1)\n",
    "plt.hist(is_spam_data, bins=bins, color='red',  alpha=0.7, label='spam')\n",
    "plt.hist(not_spam_data, bins=bins, color='blue',  alpha=0.7, label='not_spam')\n",
    "plt.title('CompressionLvl')\n",
    "plt.legend()\n",
    "plt.show()"
   ]
  },
  {
   "cell_type": "code",
   "execution_count": 234,
   "metadata": {
    "colab": {
     "base_uri": "https://localhost:8080/",
     "height": 281
    },
    "id": "e4IeQyukVJ4u",
    "outputId": "6fc98c46-3d1f-439f-90c3-47c921cc96af"
   },
   "outputs": [
    {
     "data": {
      "image/png": "[encoded data removed]",
      "text/plain": [
       "<Figure size 432x288 with 1 Axes>"
      ]
     },
     "metadata": {
      "needs_background": "light",
      "tags": []
     },
     "output_type": "display_data"
    }
   ],
   "source": [
    "#Добавить графики для остальных фичей\n",
    "is_spam_data = [doc.features[5] for doc in train_docs if doc[1] == True]\n",
    "not_spam_data = [doc.features[5] for doc in train_docs if doc[1] == False]\n",
    "bins = range(0, 30, 1)\n",
    "plt.hist(is_spam_data, bins=bins, color='red',  alpha=0.7, label='spam')\n",
    "plt.hist(not_spam_data, bins=bins, color='blue',  alpha=0.7, label='not_spam')\n",
    "plt.title('NumLinks')\n",
    "plt.legend()\n",
    "plt.show()"
   ]
  },
  {
   "cell_type": "code",
   "execution_count": 235,
   "metadata": {
    "colab": {
     "base_uri": "https://localhost:8080/",
     "height": 281
    },
    "id": "A85-xPCEVJ4w",
    "outputId": "66dc1b3c-0bdb-4ee8-8808-946903eed0f8"
   },
   "outputs": [
    {
     "data": {
      "image/png": "[encoded data removed]",
      "text/plain": [
       "<Figure size 432x288 with 1 Axes>"
      ]
     },
     "metadata": {
      "needs_background": "light",
      "tags": []
     },
     "output_type": "display_data"
    }
   ],
   "source": [
    "is_spam_data = [doc.features[6] for doc in train_docs if doc[1] == True]\n",
    "not_spam_data = [doc.features[6] for doc in train_docs if doc[1] == False]\n",
    "bins = range(0, 30, 1)\n",
    "plt.hist(is_spam_data, bins=bins, color='red',  alpha=0.7, label='spam')\n",
    "plt.hist(not_spam_data, bins=bins, color='blue', alpha=0.7, label='not_spam')\n",
    "plt.title('NumImg')\n",
    "plt.legend()\n",
    "plt.show()"
   ]
  },
  {
   "cell_type": "code",
   "execution_count": 236,
   "metadata": {
    "colab": {
     "base_uri": "https://localhost:8080/",
     "height": 281
    },
    "id": "-3IwacTpVJ4y",
    "outputId": "3695ba2d-14b2-4805-8346-f7691cef9904"
   },
   "outputs": [
    {
     "data": {
      "image/png": "[encoded data removed]",
      "text/plain": [
       "<Figure size 432x288 with 1 Axes>"
      ]
     },
     "metadata": {
      "needs_background": "light",
      "tags": []
     },
     "output_type": "display_data"
    }
   ],
   "source": [
    "is_spam_data = [doc.features[7] for doc in train_docs if doc[1] == True]\n",
    "not_spam_data = [doc.features[7] for doc in train_docs if doc[1] == False]\n",
    "bins = range(0, 30, 1)\n",
    "plt.hist(is_spam_data, bins=bins, color='red',  alpha=0.7, label='spam')\n",
    "plt.hist(not_spam_data, bins=bins, color='blue', alpha=0.7, label='not_spam')\n",
    "plt.title('NumScript')\n",
    "plt.legend()\n",
    "plt.show()"
   ]
  },
  {
   "cell_type": "code",
   "execution_count": null,
   "metadata": {
    "colab": {
     "base_uri": "https://localhost:8080/",
     "height": 281
    },
    "id": "XhR24MVRVJ44",
    "outputId": "c269715b-9d30-4a82-b8ad-9c522869042c"
   },
   "outputs": [
    {
     "data": {
      "image/png": "[encoded data removed]",
      "text/plain": [
       "<Figure size 432x288 with 1 Axes>"
      ]
     },
     "metadata": {
      "needs_background": "light",
      "tags": []
     },
     "output_type": "display_data"
    }
   ],
   "source": [
    "is_spam_data = [doc.features[8] for doc in train_docs if doc[1] == True]\n",
    "not_spam_data = [doc.features[8] for doc in train_docs if doc[1] == False]\n",
    "bins = range(0, 30, 1)\n",
    "plt.hist(is_spam_data, bins=bins, color='red',  alpha=0.7, label='spam')\n",
    "plt.hist(not_spam_data, bins=bins, color='blue', alpha=0.7, label='not_spam')\n",
    "plt.title('NumTable')\n",
    "plt.legend()\n",
    "plt.show()"
   ]
  },
  {
   "cell_type": "code",
   "execution_count": null,
   "metadata": {
    "colab": {
     "base_uri": "https://localhost:8080/",
     "height": 281
    },
    "id": "1GuhsAQMYlri",
    "outputId": "6e62b590-22ce-4398-c227-84517e95a51e"
   },
   "outputs": [
    {
     "data": {
      "image/png": "[encoded data removed]",
      "text/plain": [
       "<Figure size 432x288 with 1 Axes>"
      ]
     },
     "metadata": {
      "needs_background": "light",
      "tags": []
     },
     "output_type": "display_data"
    }
   ],
   "source": [
    "is_spam_data = [doc.features[9] for doc in train_docs if doc[1] == True]\n",
    "not_spam_data = [doc.features[9] for doc in train_docs if doc[1] == False]\n",
    "bins = range(0, 30, 1)\n",
    "plt.hist(is_spam_data, bins=bins, color='red',  alpha=0.7, label='spam')\n",
    "plt.hist(not_spam_data, bins=bins, color='blue', alpha=0.7, label='not_spam')\n",
    "plt.title('NumLists')\n",
    "plt.legend()\n",
    "plt.show()"
   ]
  },
  {
   "cell_type": "code",
   "execution_count": 286,
   "metadata": {
    "colab": {
     "base_uri": "https://localhost:8080/",
     "height": 281
    },
    "id": "b9kA_Ms_1cE0",
    "outputId": "e862facf-2244-4adf-a368-b4d20b58bb52"
   },
   "outputs": [
    {
     "data": {
      "image/png": "[encoded data removed]",
      "text/plain": [
       "<Figure size 432x288 with 1 Axes>"
      ]
     },
     "metadata": {
      "needs_background": "light",
      "tags": []
     },
     "output_type": "display_data"
    }
   ],
   "source": [
    "is_spam_data = [doc.features[12] for doc in train_docs if doc[1] == True]\n",
    "not_spam_data = [doc.features[12] for doc in train_docs if doc[1] == False]\n",
    "# bins = range(0, 30, 1)\n",
    "plt.hist(is_spam_data,  color='red',  alpha=0.7, label='spam')\n",
    "plt.hist(not_spam_data,  color='blue', alpha=0.7, label='not_spam')\n",
    "plt.title('tire')\n",
    "plt.legend()\n",
    "plt.show()"
   ]
  },
  {
   "cell_type": "code",
   "execution_count": 318,
   "metadata": {
    "colab": {
     "base_uri": "https://localhost:8080/",
     "height": 281
    },
    "id": "xd7qmb_y43NT",
    "outputId": "36fe5f3a-13f5-437e-9e09-651ffdc42f5d"
   },
   "outputs": [
    {
     "data": {
      "image/png": "[encoded data removed]",
      "text/plain": [
       "<Figure size 432x288 with 1 Axes>"
      ]
     },
     "metadata": {
      "needs_background": "light",
      "tags": []
     },
     "output_type": "display_data"
    }
   ],
   "source": [
    "is_spam_data = [doc.features[13] for doc in train_docs if doc[1] == True]\n",
    "not_spam_data = [doc.features[13] for doc in train_docs if doc[1] == False]\n",
    "# bins = range(0, 30, 1)\n",
    "plt.hist(is_spam_data,  color='red',  alpha=0.7, label='spam')\n",
    "plt.hist(not_spam_data,  color='blue', alpha=0.7, label='not_spam')\n",
    "plt.title('html')\n",
    "plt.legend()\n",
    "plt.show()"
   ]
  },
  {
   "cell_type": "code",
   "execution_count": 52,
   "metadata": {
    "colab": {
     "base_uri": "https://localhost:8080/",
     "height": 281
    },
    "id": "fIPA4FQafUk_",
    "outputId": "2f40ed9d-b1ca-4a3d-decc-e684669601c6"
   },
   "outputs": [
    {
     "data": {
      "image/png": "[encoded data removed]",
      "text/plain": [
       "<Figure size 432x288 with 1 Axes>"
      ]
     },
     "metadata": {
      "needs_background": "light",
      "tags": []
     },
     "output_type": "display_data"
    }
   ],
   "source": [
    "is_spam_data = [Tf20[i] for i,doc in zip(range(len(train_docs)),train_docs) if doc[1] == True]\n",
    "not_spam_data = [Tf20[i] for i,doc in zip(range(len(train_docs)),train_docs) if doc[1] == False]\n",
    "# bins = range(0, 30, 1)\n",
    "plt.hist(is_spam_data,  color='red',  alpha=0.7, label='spam')\n",
    "plt.hist(not_spam_data,  color='blue', alpha=0.7, label='not_spam')\n",
    "plt.title('Tf20')\n",
    "plt.legend()\n",
    "plt.show()"
   ]
  },
  {
   "cell_type": "markdown",
   "metadata": {
    "id": "vVvrbjjvVJ46"
   },
   "source": [
    "** Классификатор: **\n",
    "Нужно реализовать"
   ]
  },
  {
   "cell_type": "code",
   "execution_count": 168,
   "metadata": {
    "id": "z0FpxdaEvlOn"
   },
   "outputs": [],
   "source": [
    "import torch.optim as optim\n",
    "import numpy as np\n",
    "from sklearn.datasets import fetch_openml\n",
    "from sklearn.model_selection import train_test_split\n",
    "import matplotlib.pyplot as plt\n",
    "import torch\n",
    "from torch import nn\n",
    "from torch.autograd import Variable\n",
    "from torch.utils.data import DataLoader\n",
    "from torchvision.datasets import MNIST\n",
    "from torchvision import transforms\n",
    "from IPython.display import clear_output"
   ]
  },
  {
   "cell_type": "code",
   "execution_count": 319,
   "metadata": {
    "id": "LrziFNvmVJ4_"
   },
   "outputs": [],
   "source": [
    "from sklearn.ensemble import GradientBoostingClassifier\n",
    "import numpy as np\n",
    "class Classifier:\n",
    "    \n",
    "    def __init__(self):\n",
    "        self.clf = GradientBoostingClassifier(n_estimators=1500)\n",
    "\n",
    "\n",
    "    def predict(self, doc):        \n",
    "        return self.clf.predict([doc.features])                   \n",
    "    \n",
    "    def predict_all(self, docs):\n",
    "        res = []\n",
    "        for doc_num, doc in enumerate(docs):\n",
    "            trace(doc_num)\n",
    "            prediction = self.predict(doc)            \n",
    "            res.append( (doc.doc_id, doc.is_spam, doc.url, prediction) )\n",
    "        return res\n",
    "    \n",
    "    def train(self, docs):        \n",
    "        all_features = np.array([])\n",
    "        all_labels = np.array([])\n",
    "        for doc_num, doc in enumerate(docs): \n",
    "            \n",
    "            try:\n",
    "                all_features = np.append(all_features,np.array(doc.features))\n",
    "                all_labels = np.append(all_labels,np.array(doc.is_spam))\n",
    "            except:\n",
    "                print(doc)\n",
    "            trace(doc_num)\n",
    "        trace(doc_num, 1)\n",
    "#         print(all_features.shape,all_labels.shape)\n",
    "#         print(all_features.reshape(all_labels.shape[0],-1)[:5],all_features[:20])\n",
    "#         print(all_labels[:5])\n",
    "        self.clf.fit(all_features.reshape(all_labels.shape[0],-1), all_labels)\n"
   ]
  },
  {
   "cell_type": "code",
   "execution_count": 320,
   "metadata": {
    "colab": {
     "base_uri": "https://localhost:8080/",
     "height": 624
    },
    "id": "jFP4H-EkVJ5B",
    "outputId": "f71314a6-3075-425e-8725-bb80c7f58803",
    "scrolled": true
   },
   "outputs": [
    {
     "name": "stderr",
     "output_type": "stream",
     "text": [
      "15:18:14 INFO:Complete items 00000\n",
      "15:18:14 INFO:Complete items 01000\n",
      "15:18:14 INFO:Complete items 02000\n",
      "15:18:14 INFO:Complete items 03000\n",
      "15:18:14 INFO:Complete items 04000\n",
      "15:18:14 INFO:Complete items 05000\n",
      "15:18:14 INFO:Complete items 06000\n",
      "15:18:15 INFO:Complete items 07000\n",
      "15:18:15 INFO:Complete items 07043\n"
     ]
    },
    {
     "name": "stdout",
     "output_type": "stream",
     "text": [
      "(112704,) (7044,)\n",
      "[[3.14500000e+03 8.30588235e+00 3.30000000e+01 1.63000000e+02\n",
      "  3.33333333e+00 6.00000000e+01 1.00000000e+00 7.00000000e+00\n",
      "  1.00000000e+00 3.00000000e+00 0.00000000e+00 2.80000000e+01\n",
      "  0.00000000e+00 0.00000000e+00 0.00000000e+00 0.00000000e+00]\n",
      " [6.90000000e+02 9.55362319e+00 1.90000000e+01 2.05000000e+02\n",
      "  3.33333333e+00 8.10000000e+01 0.00000000e+00 1.10000000e+01\n",
      "  0.00000000e+00 1.40000000e+01 0.00000000e+00 5.00000000e+01\n",
      "  0.00000000e+00 0.00000000e+00 0.00000000e+00 3.00000000e-01]\n",
      " [1.24300000e+03 8.07401448e+00 4.40000000e+01 4.29000000e+02\n",
      "  6.33194647e+00 1.39000000e+02 2.00000000e+00 1.40000000e+01\n",
      "  3.80000000e+01 0.00000000e+00 0.00000000e+00 4.10000000e+01\n",
      "  2.00000000e+00 1.00000000e+00 1.34315108e-01 6.00000000e-01]\n",
      " [7.29000000e+02 9.70507545e+00 1.90000000e+01 1.24000000e+02\n",
      "  3.33333333e+00 7.30000000e+01 6.00000000e+00 9.00000000e+00\n",
      "  5.00000000e+01 0.00000000e+00 0.00000000e+00 3.80000000e+01\n",
      "  0.00000000e+00 0.00000000e+00 1.19017257e-01 2.50000000e-01]\n",
      " [5.01000000e+02 7.09980040e+00 4.10000000e+01 1.63000000e+02\n",
      "  3.33333333e+00 8.00000000e+01 0.00000000e+00 1.00000000e+00\n",
      "  3.00000000e+00 6.00000000e+00 0.00000000e+00 5.40000000e+01\n",
      "  1.00000000e+00 1.00000000e+00 1.20041877e-01 4.00000000e-01]] [3.14500000e+03 8.30588235e+00 3.30000000e+01 1.63000000e+02\n",
      " 3.33333333e+00 6.00000000e+01 1.00000000e+00 7.00000000e+00\n",
      " 1.00000000e+00 3.00000000e+00 0.00000000e+00 2.80000000e+01\n",
      " 0.00000000e+00 0.00000000e+00 0.00000000e+00 0.00000000e+00\n",
      " 6.90000000e+02 9.55362319e+00 1.90000000e+01 2.05000000e+02]\n",
      "[0. 0. 0. 0. 1.]\n"
     ]
    }
   ],
   "source": [
    "classifier = Classifier()\n",
    "classifier.train(train_docs)"
   ]
  },
  {
   "cell_type": "code",
   "execution_count": 62,
   "metadata": {
    "colab": {
     "base_uri": "https://localhost:8080/",
     "height": 52
    },
    "id": "p1IX_PpDVJ5D",
    "outputId": "6d1140e4-ed48-43ed-9420-10156f172161"
   },
   "outputs": [
    {
     "name": "stdout",
     "output_type": "stream",
     "text": [
      "[6, 4.333333333333333, 15, 2, 0, 1, 0, 0, 0, 0]\n"
     ]
    },
    {
     "data": {
      "text/plain": [
       "array([1.])"
      ]
     },
     "execution_count": 62,
     "metadata": {
      "tags": []
     },
     "output_type": "execute_result"
    }
   ],
   "source": [
    "#Посмотреть, что предсказывается для тестового html\n",
    "print(test_features)\n",
    "classifier.predict(DocItem(0, 0, test_url , test_features+[0]+[0]))"
   ]
  },
  {
   "cell_type": "markdown",
   "metadata": {
    "id": "O9sUPQktVJ5E"
   },
   "source": [
    "** Рисуем графики **"
   ]
  },
  {
   "cell_type": "code",
   "execution_count": 321,
   "metadata": {
    "colab": {
     "base_uri": "https://localhost:8080/",
     "height": 1000
    },
    "id": "ny-Yc4_tVJ5E",
    "outputId": "de999fc1-280b-49c3-c752-61e20c0e43ce",
    "scrolled": true
   },
   "outputs": [
    {
     "name": "stderr",
     "output_type": "stream",
     "text": [
      "15:18:48 INFO:Complete items 00000\n",
      "15:18:49 INFO:Complete items 01000\n",
      "15:18:49 INFO:Complete items 02000\n",
      "15:18:50 INFO:Complete items 03000\n",
      "15:18:50 INFO:Complete items 04000\n",
      "15:18:51 INFO:Complete items 05000\n",
      "15:18:52 INFO:Complete items 06000\n",
      "15:18:52 INFO:Complete items 07000\n"
     ]
    },
    {
     "name": "stdout",
     "output_type": "stream",
     "text": [
      "threshold 0\n",
      "\tclass_prec 1.0, class_recall 1.0, class_F1 1.0\n",
      "\tnot_class_prec 1.0, not_class_recall 1.0, not_class_F1 1.0\n",
      "\t\tMacroF1Mesure 1.0\n",
      "threshold 0.1\n",
      "\tclass_prec 1.0, class_recall 1.0, class_F1 1.0\n",
      "\tnot_class_prec 1.0, not_class_recall 1.0, not_class_F1 1.0\n",
      "\t\tMacroF1Mesure 1.0\n",
      "threshold 0.2\n",
      "\tclass_prec 1.0, class_recall 1.0, class_F1 1.0\n",
      "\tnot_class_prec 1.0, not_class_recall 1.0, not_class_F1 1.0\n",
      "\t\tMacroF1Mesure 1.0\n",
      "threshold 0.30000000000000004\n",
      "\tclass_prec 1.0, class_recall 1.0, class_F1 1.0\n",
      "\tnot_class_prec 1.0, not_class_recall 1.0, not_class_F1 1.0\n",
      "\t\tMacroF1Mesure 1.0\n",
      "threshold 0.4\n",
      "\tclass_prec 1.0, class_recall 1.0, class_F1 1.0\n",
      "\tnot_class_prec 1.0, not_class_recall 1.0, not_class_F1 1.0\n",
      "\t\tMacroF1Mesure 1.0\n",
      "threshold 0.5\n",
      "\tclass_prec 1.0, class_recall 1.0, class_F1 1.0\n",
      "\tnot_class_prec 1.0, not_class_recall 1.0, not_class_F1 1.0\n",
      "\t\tMacroF1Mesure 1.0\n",
      "threshold 0.6\n",
      "\tclass_prec 1.0, class_recall 1.0, class_F1 1.0\n",
      "\tnot_class_prec 1.0, not_class_recall 1.0, not_class_F1 1.0\n",
      "\t\tMacroF1Mesure 1.0\n",
      "threshold 0.7\n",
      "\tclass_prec 1.0, class_recall 1.0, class_F1 1.0\n",
      "\tnot_class_prec 1.0, not_class_recall 1.0, not_class_F1 1.0\n",
      "\t\tMacroF1Mesure 1.0\n",
      "threshold 0.7999999999999999\n",
      "\tclass_prec 1.0, class_recall 1.0, class_F1 1.0\n",
      "\tnot_class_prec 1.0, not_class_recall 1.0, not_class_F1 1.0\n",
      "\t\tMacroF1Mesure 1.0\n",
      "threshold 0.8999999999999999\n",
      "\tclass_prec 1.0, class_recall 1.0, class_F1 1.0\n",
      "\tnot_class_prec 1.0, not_class_recall 1.0, not_class_F1 1.0\n",
      "\t\tMacroF1Mesure 1.0\n",
      "threshold 0.9999999999999999\n",
      "\tclass_prec 1.0, class_recall 1.0, class_F1 1.0\n",
      "\tnot_class_prec 1.0, not_class_recall 1.0, not_class_F1 1.0\n",
      "\t\tMacroF1Mesure 1.0\n"
     ]
    },
    {
     "data": {
      "image/png": "[encoded data removed]",
      "text/plain": [
       "<Figure size 720x360 with 1 Axes>"
      ]
     },
     "metadata": {
      "needs_background": "light",
      "tags": []
     },
     "output_type": "display_data"
    },
    {
     "data": {
      "image/png": "[encoded data removed]",
      "text/plain": [
       "<Figure size 720x360 with 1 Axes>"
      ]
     },
     "metadata": {
      "needs_background": "light",
      "tags": []
     },
     "output_type": "display_data"
    }
   ],
   "source": [
    "plot_results(train_docs, min_threshold=0, max_threshold=1, step=0.1, trace=1)"
   ]
  },
  {
   "cell_type": "code",
   "execution_count": 322,
   "metadata": {
    "colab": {
     "base_uri": "https://localhost:8080/",
     "height": 329
    },
    "id": "Hd7lQcAbVJ5G",
    "outputId": "3ee8b76b-21c0-4147-c807-03baebe56ac7"
   },
   "outputs": [
    {
     "name": "stderr",
     "output_type": "stream",
     "text": [
      "15:19:17 INFO:Complete items 00000\n",
      "15:20:13 INFO:Complete items 01000\n",
      "15:21:02 INFO:Complete items 02000\n",
      "15:21:46 INFO:Complete items 03000\n",
      "15:22:25 INFO:Complete items 04000\n",
      "15:23:03 INFO:Complete items 05000\n",
      "15:23:50 INFO:Complete items 06000\n",
      "15:24:29 INFO:Complete items 07000\n",
      "15:25:10 INFO:Complete items 08000\n",
      "15:25:51 INFO:Complete items 09000\n",
      "15:26:46 INFO:Complete items 10000\n",
      "15:27:26 INFO:Complete items 11000\n",
      "15:28:08 INFO:Complete items 12000\n",
      "15:28:45 INFO:Complete items 13000\n",
      "15:29:28 INFO:Complete items 14000\n",
      "15:30:10 INFO:Complete items 15000\n",
      "15:30:57 INFO:Complete items 16000\n",
      "15:30:59 INFO:Complete items 16038\n"
     ]
    }
   ],
   "source": [
    "TEST_DATA_FILE  = '/content/drive/My Drive/antispam-infopoisk/kaggle_test_data_tab_new.csv.gz'\n",
    "# TEST_DATA_FILE  = 'kaggle/kaggle_train_data_tab_300.csv.gz'\n",
    "\n",
    "test_docs = list(load_csv(TEST_DATA_FILE, calc_features))\n",
    "\n"
   ]
  },
  {
   "cell_type": "code",
   "execution_count": null,
   "metadata": {
    "colab": {
     "base_uri": "https://localhost:8080/",
     "height": 35
    },
    "id": "iJ4S0YVfj27o",
    "outputId": "a42306fc-ff67-4e7b-f369-98a55244053d"
   },
   "outputs": [
    {
     "data": {
      "text/plain": [
       "16038"
      ]
     },
     "execution_count": 145,
     "metadata": {
      "tags": []
     },
     "output_type": "execute_result"
    }
   ],
   "source": [
    "len(AllTexts[7045:])"
   ]
  },
  {
   "cell_type": "code",
   "execution_count": 35,
   "metadata": {
    "colab": {
     "base_uri": "https://localhost:8080/",
     "height": 35
    },
    "id": "LDvH-tZZpN5H",
    "outputId": "e4a477ff-5bed-4018-b2e8-52971b143fc5"
   },
   "outputs": [
    {
     "name": "stderr",
     "output_type": "stream",
     "text": [
      "100%|██████████| 16039/16039 [1:03:07<00:00,  4.23it/s]\n"
     ]
    }
   ],
   "source": [
    "r_a_t_pred = obr_texts(AllTexts[7045:])"
   ]
  },
  {
   "cell_type": "code",
   "execution_count": 36,
   "metadata": {
    "id": "VqH073WYpgIm"
   },
   "outputs": [],
   "source": [
    "with open('/content/drive/My Drive/antispam-infopoisk/text_pred2.data', 'wb') as filehandle:\n",
    "    pickle.dump(r_a_t_pred,filehandle)"
   ]
  },
  {
   "cell_type": "code",
   "execution_count": 37,
   "metadata": {
    "id": "_PQMixZtiDg8"
   },
   "outputs": [],
   "source": [
    "with open('/content/drive/My Drive/antispam-infopoisk/text_pred2.data', 'rb') as filehandle:\n",
    "    r_a_t_pred2 = pickle.load(filehandle)"
   ]
  },
  {
   "cell_type": "code",
   "execution_count": 173,
   "metadata": {
    "id": "5GoFI_VM3L0C"
   },
   "outputs": [],
   "source": [
    "Idf_pred = idf(r_a_t_pred2,10)\n",
    "Tf_pred = tf(r_a_t_pred2,20)"
   ]
  },
  {
   "cell_type": "code",
   "execution_count": 323,
   "metadata": {
    "id": "3OFncmaFpK8O"
   },
   "outputs": [],
   "source": [
    "#добавляем усредненный idf и tf к признакам\n",
    "i=0\n",
    "for doc in test_docs:\n",
    "  doc.features.append(Idf_pred[i].tolist()[0][0])\n",
    "  doc.features.append(Tf_pred[i])\n",
    "  i+=1"
   ]
  },
  {
   "cell_type": "code",
   "execution_count": 324,
   "metadata": {
    "colab": {
     "base_uri": "https://localhost:8080/",
     "height": 312
    },
    "id": "9JnapwHViY1i",
    "outputId": "38e9c6b9-8b6c-4138-c44d-e3f34477dfc8"
   },
   "outputs": [
    {
     "name": "stderr",
     "output_type": "stream",
     "text": [
      "15:31:24 INFO:Complete items 00000\n",
      "15:31:24 INFO:Complete items 01000\n",
      "15:31:25 INFO:Complete items 02000\n",
      "15:31:26 INFO:Complete items 03000\n",
      "15:31:26 INFO:Complete items 04000\n",
      "15:31:27 INFO:Complete items 05000\n",
      "15:31:27 INFO:Complete items 06000\n",
      "15:31:28 INFO:Complete items 07000\n",
      "15:31:29 INFO:Complete items 08000\n",
      "15:31:29 INFO:Complete items 09000\n",
      "15:31:30 INFO:Complete items 10000\n",
      "15:31:31 INFO:Complete items 11000\n",
      "15:31:31 INFO:Complete items 12000\n",
      "15:31:32 INFO:Complete items 13000\n",
      "15:31:32 INFO:Complete items 14000\n",
      "15:31:33 INFO:Complete items 15000\n",
      "15:31:34 INFO:Complete items 16000\n"
     ]
    }
   ],
   "source": [
    "with open('/content/drive/My Drive/antispam-infopoisk/my_submission_new35.csv' , 'w') as fout:\n",
    "    writer = csv.writer(fout)\n",
    "    writer.writerow(['Id','Prediction'])\n",
    "    for item in classifier.predict_all(test_docs):\n",
    "        prediction =  1 if item[3] > 0.5 else 0\n",
    "        writer.writerow([item[0], prediction])"
   ]
  }
 ],
 "metadata": {
  "anaconda-cloud": {},
  "colab": {
   "collapsed_sections": [],
   "name": "Копия блокнота \"AntispamStatsSeminar.ipynb\"",
   "provenance": []
  },
  "kernelspec": {
   "display_name": "Python 3",
   "language": "python",
   "name": "python3"
  },
  "language_info": {
   "codemirror_mode": {
    "name": "ipython",
    "version": 3
   },
   "file_extension": ".py",
   "mimetype": "text/x-python",
   "name": "python",
   "nbconvert_exporter": "python",
   "pygments_lexer": "ipython3",
   "version": "3.7.6"
  }
 },
 "nbformat": 4,
 "nbformat_minor": 1
}
